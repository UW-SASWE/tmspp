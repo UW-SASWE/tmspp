{
 "cells": [
  {
   "cell_type": "markdown",
   "metadata": {},
   "source": [
    "## average revisit time"
   ]
  },
  {
   "cell_type": "code",
   "execution_count": null,
   "metadata": {},
   "outputs": [
    {
     "name": "stdout",
     "output_type": "stream",
     "text": [
      "['TMS-OS', 'SWOT', 'ICESat-2\\n(insitu E-S)']\n",
      "tmsos baseline_277\n",
      "swot_karin_poseidon 2324-insitu-aevinsitu\n",
      "icesat2 2324-insitu-aevinsitu\n"
     ]
    },
    {
     "data": {
      "application/vnd.microsoft.datawrangler.viewer.v0+json": {
       "columns": [
        {
         "name": "index",
         "rawType": "int64",
         "type": "integer"
        },
        {
         "name": "alg",
         "rawType": "object",
         "type": "string"
        },
        {
         "name": "length_of_obs",
         "rawType": "int64",
         "type": "integer"
        },
        {
         "name": "number_of_obs",
         "rawType": "int64",
         "type": "integer"
        },
        {
         "name": "start_date",
         "rawType": "datetime64[ns]",
         "type": "datetime"
        },
        {
         "name": "end_date",
         "rawType": "datetime64[ns]",
         "type": "datetime"
        }
       ],
       "conversionMethod": "pd.DataFrame",
       "ref": "9fba516a-d7f1-4985-ba07-72dc739bbcce",
       "rows": [
        [
         "0",
         "tmsos",
         "395",
         "114",
         "2023-07-30 00:00:00",
         "2024-08-28 00:00:00"
        ],
        [
         "1",
         "tmsos",
         "491",
         "148",
         "2023-07-30 00:00:00",
         "2024-12-02 00:00:00"
        ],
        [
         "2",
         "tmsos",
         "396",
         "120",
         "2023-07-30 00:00:00",
         "2024-08-29 00:00:00"
        ],
        [
         "3",
         "tmsos",
         "499",
         "147",
         "2023-07-30 00:00:00",
         "2024-12-10 00:00:00"
        ],
        [
         "4",
         "tmsos",
         "486",
         "145",
         "2023-07-30 00:00:00",
         "2024-11-27 00:00:00"
        ]
       ],
       "shape": {
        "columns": 5,
        "rows": 5
       }
      },
      "text/html": [
       "<div>\n",
       "<style scoped>\n",
       "    .dataframe tbody tr th:only-of-type {\n",
       "        vertical-align: middle;\n",
       "    }\n",
       "\n",
       "    .dataframe tbody tr th {\n",
       "        vertical-align: top;\n",
       "    }\n",
       "\n",
       "    .dataframe thead th {\n",
       "        text-align: right;\n",
       "    }\n",
       "</style>\n",
       "<table border=\"1\" class=\"dataframe\">\n",
       "  <thead>\n",
       "    <tr style=\"text-align: right;\">\n",
       "      <th></th>\n",
       "      <th>alg</th>\n",
       "      <th>length_of_obs</th>\n",
       "      <th>number_of_obs</th>\n",
       "      <th>start_date</th>\n",
       "      <th>end_date</th>\n",
       "    </tr>\n",
       "  </thead>\n",
       "  <tbody>\n",
       "    <tr>\n",
       "      <th>0</th>\n",
       "      <td>tmsos</td>\n",
       "      <td>395</td>\n",
       "      <td>114</td>\n",
       "      <td>2023-07-30</td>\n",
       "      <td>2024-08-28</td>\n",
       "    </tr>\n",
       "    <tr>\n",
       "      <th>1</th>\n",
       "      <td>tmsos</td>\n",
       "      <td>491</td>\n",
       "      <td>148</td>\n",
       "      <td>2023-07-30</td>\n",
       "      <td>2024-12-02</td>\n",
       "    </tr>\n",
       "    <tr>\n",
       "      <th>2</th>\n",
       "      <td>tmsos</td>\n",
       "      <td>396</td>\n",
       "      <td>120</td>\n",
       "      <td>2023-07-30</td>\n",
       "      <td>2024-08-29</td>\n",
       "    </tr>\n",
       "    <tr>\n",
       "      <th>3</th>\n",
       "      <td>tmsos</td>\n",
       "      <td>499</td>\n",
       "      <td>147</td>\n",
       "      <td>2023-07-30</td>\n",
       "      <td>2024-12-10</td>\n",
       "    </tr>\n",
       "    <tr>\n",
       "      <th>4</th>\n",
       "      <td>tmsos</td>\n",
       "      <td>486</td>\n",
       "      <td>145</td>\n",
       "      <td>2023-07-30</td>\n",
       "      <td>2024-11-27</td>\n",
       "    </tr>\n",
       "  </tbody>\n",
       "</table>\n",
       "</div>"
      ],
      "text/plain": [
       "     alg  length_of_obs  number_of_obs start_date   end_date\n",
       "0  tmsos            395            114 2023-07-30 2024-08-28\n",
       "1  tmsos            491            148 2023-07-30 2024-12-02\n",
       "2  tmsos            396            120 2023-07-30 2024-08-29\n",
       "3  tmsos            499            147 2023-07-30 2024-12-10\n",
       "4  tmsos            486            145 2023-07-30 2024-11-27"
      ]
     },
     "metadata": {},
     "output_type": "display_data"
    }
   ],
   "source": [
    "alg_and_versions = [\n",
    "    ('tmsos', 'baseline_277', 'TMS-OS'),\n",
    "    ('swot_karin_poseidon', '2324-insitu-aevinsitu', 'SWOT'),\n",
    "    ('icesat2', '2324-insitu-aevinsitu', 'ICESat-2\\n(insitu E-S)'),\n",
    "]\n",
    "\n",
    "categories = [element[-1] for element in alg_and_versions]\n",
    "print(categories)\n",
    "\n",
    "dfs = []\n",
    "\n",
    "data = {\n",
    "    'alg': [],\n",
    "    'length_of_obs': [],\n",
    "    'number_of_obs': [],\n",
    "    'start_date': [],\n",
    "    'end_date': []\n",
    "}\n",
    "\n",
    "for alg_name, alg_version, display_name in alg_and_versions:\n",
    "    print(alg_name, alg_version)\n",
    "    storage_dir_fn = DATA_DIR / f\"storage/{alg_name}/{alg_version}\"\n",
    "\n",
    "    for fn in list(storage_dir_fn.glob(\"*.csv\")):\n",
    "        df = pd.read_csv(fn, parse_dates=['date'])\n",
    "        df = df[df['date'] >= '2023-07-27']  # clip to the period after the first available swot data\n",
    "        length_of_obs = (df['date'].iloc[-1] - df['date'].iloc[0]).days\n",
    "        length_of_obs = 1 if length_of_obs == 0 else length_of_obs\n",
    "        number_of_obs = df.shape[0]\n",
    "\n",
    "        data['alg'].append(alg_name)\n",
    "        data['length_of_obs'].append(length_of_obs)\n",
    "        data['number_of_obs'].append(number_of_obs)\n",
    "        data['start_date'].append(df['date'].iloc[0])\n",
    "        data['end_date'].append(df['date'].iloc[-1])\n",
    "\n",
    "df = pd.DataFrame(data)\n",
    "df.head()\n"
   ]
  },
  {
   "cell_type": "code",
   "execution_count": null,
   "metadata": {},
   "outputs": [
    {
     "data": {
      "application/vnd.microsoft.datawrangler.viewer.v0+json": {
       "columns": [
        {
         "name": "index",
         "rawType": "int64",
         "type": "integer"
        },
        {
         "name": "alg",
         "rawType": "object",
         "type": "string"
        },
        {
         "name": "length_of_obs",
         "rawType": "int64",
         "type": "integer"
        },
        {
         "name": "number_of_obs",
         "rawType": "int64",
         "type": "integer"
        },
        {
         "name": "start_date",
         "rawType": "datetime64[ns]",
         "type": "datetime"
        },
        {
         "name": "end_date",
         "rawType": "datetime64[ns]",
         "type": "datetime"
        },
        {
         "name": "revist_time",
         "rawType": "float64",
         "type": "float"
        }
       ],
       "conversionMethod": "pd.DataFrame",
       "ref": "84083b53-ee64-4f8c-aed4-bb2de8a42ff2",
       "rows": [
        [
         "0",
         "tmsos",
         "395",
         "114",
         "2023-07-30 00:00:00",
         "2024-08-28 00:00:00",
         "3.4649122807017543"
        ],
        [
         "1",
         "tmsos",
         "491",
         "148",
         "2023-07-30 00:00:00",
         "2024-12-02 00:00:00",
         "3.3175675675675675"
        ],
        [
         "2",
         "tmsos",
         "396",
         "120",
         "2023-07-30 00:00:00",
         "2024-08-29 00:00:00",
         "3.3"
        ],
        [
         "3",
         "tmsos",
         "499",
         "147",
         "2023-07-30 00:00:00",
         "2024-12-10 00:00:00",
         "3.3945578231292517"
        ],
        [
         "4",
         "tmsos",
         "486",
         "145",
         "2023-07-30 00:00:00",
         "2024-11-27 00:00:00",
         "3.3517241379310345"
        ]
       ],
       "shape": {
        "columns": 6,
        "rows": 5
       }
      },
      "text/html": [
       "<div>\n",
       "<style scoped>\n",
       "    .dataframe tbody tr th:only-of-type {\n",
       "        vertical-align: middle;\n",
       "    }\n",
       "\n",
       "    .dataframe tbody tr th {\n",
       "        vertical-align: top;\n",
       "    }\n",
       "\n",
       "    .dataframe thead th {\n",
       "        text-align: right;\n",
       "    }\n",
       "</style>\n",
       "<table border=\"1\" class=\"dataframe\">\n",
       "  <thead>\n",
       "    <tr style=\"text-align: right;\">\n",
       "      <th></th>\n",
       "      <th>alg</th>\n",
       "      <th>length_of_obs</th>\n",
       "      <th>number_of_obs</th>\n",
       "      <th>start_date</th>\n",
       "      <th>end_date</th>\n",
       "      <th>revist_time</th>\n",
       "    </tr>\n",
       "  </thead>\n",
       "  <tbody>\n",
       "    <tr>\n",
       "      <th>0</th>\n",
       "      <td>tmsos</td>\n",
       "      <td>395</td>\n",
       "      <td>114</td>\n",
       "      <td>2023-07-30</td>\n",
       "      <td>2024-08-28</td>\n",
       "      <td>3.464912</td>\n",
       "    </tr>\n",
       "    <tr>\n",
       "      <th>1</th>\n",
       "      <td>tmsos</td>\n",
       "      <td>491</td>\n",
       "      <td>148</td>\n",
       "      <td>2023-07-30</td>\n",
       "      <td>2024-12-02</td>\n",
       "      <td>3.317568</td>\n",
       "    </tr>\n",
       "    <tr>\n",
       "      <th>2</th>\n",
       "      <td>tmsos</td>\n",
       "      <td>396</td>\n",
       "      <td>120</td>\n",
       "      <td>2023-07-30</td>\n",
       "      <td>2024-08-29</td>\n",
       "      <td>3.300000</td>\n",
       "    </tr>\n",
       "    <tr>\n",
       "      <th>3</th>\n",
       "      <td>tmsos</td>\n",
       "      <td>499</td>\n",
       "      <td>147</td>\n",
       "      <td>2023-07-30</td>\n",
       "      <td>2024-12-10</td>\n",
       "      <td>3.394558</td>\n",
       "    </tr>\n",
       "    <tr>\n",
       "      <th>4</th>\n",
       "      <td>tmsos</td>\n",
       "      <td>486</td>\n",
       "      <td>145</td>\n",
       "      <td>2023-07-30</td>\n",
       "      <td>2024-11-27</td>\n",
       "      <td>3.351724</td>\n",
       "    </tr>\n",
       "  </tbody>\n",
       "</table>\n",
       "</div>"
      ],
      "text/plain": [
       "     alg  length_of_obs  number_of_obs start_date   end_date  revist_time\n",
       "0  tmsos            395            114 2023-07-30 2024-08-28     3.464912\n",
       "1  tmsos            491            148 2023-07-30 2024-12-02     3.317568\n",
       "2  tmsos            396            120 2023-07-30 2024-08-29     3.300000\n",
       "3  tmsos            499            147 2023-07-30 2024-12-10     3.394558\n",
       "4  tmsos            486            145 2023-07-30 2024-11-27     3.351724"
      ]
     },
     "metadata": {},
     "output_type": "display_data"
    }
   ],
   "source": [
    "df['revist_time'] = df['length_of_obs'] / df['number_of_obs']\n",
    "df.head()"
   ]
  },
  {
   "cell_type": "code",
   "execution_count": null,
   "metadata": {},
   "outputs": [
    {
     "data": {
      "application/vnd.microsoft.datawrangler.viewer.v0+json": {
       "columns": [
        {
         "name": "alg",
         "rawType": "object",
         "type": "string"
        },
        {
         "name": "length_of_obs",
         "rawType": "float64",
         "type": "float"
        },
        {
         "name": "number_of_obs",
         "rawType": "float64",
         "type": "float"
        },
        {
         "name": "start_date",
         "rawType": "datetime64[ns]",
         "type": "datetime"
        },
        {
         "name": "end_date",
         "rawType": "datetime64[ns]",
         "type": "datetime"
        },
        {
         "name": "revist_time",
         "rawType": "float64",
         "type": "float"
        }
       ],
       "conversionMethod": "pd.DataFrame",
       "ref": "c7f29b6a-5c87-4979-a95f-e3911c667d51",
       "rows": [
        [
         "icesat2",
         "363.0",
         "5.0",
         "2023-09-13 00:00:00",
         "2024-09-09 00:00:00",
         "59.0"
        ],
        [
         "swot_karin_poseidon",
         "314.0",
         "30.0",
         "2023-11-28 00:00:00",
         "2024-10-07 00:00:00",
         "10.466666666666667"
        ],
        [
         "tmsos",
         "490.0",
         "148.0",
         "2023-07-30 00:00:00",
         "2024-11-29 00:00:00",
         "3.319327731092437"
        ]
       ],
       "shape": {
        "columns": 5,
        "rows": 3
       }
      },
      "text/html": [
       "<div>\n",
       "<style scoped>\n",
       "    .dataframe tbody tr th:only-of-type {\n",
       "        vertical-align: middle;\n",
       "    }\n",
       "\n",
       "    .dataframe tbody tr th {\n",
       "        vertical-align: top;\n",
       "    }\n",
       "\n",
       "    .dataframe thead th {\n",
       "        text-align: right;\n",
       "    }\n",
       "</style>\n",
       "<table border=\"1\" class=\"dataframe\">\n",
       "  <thead>\n",
       "    <tr style=\"text-align: right;\">\n",
       "      <th></th>\n",
       "      <th>length_of_obs</th>\n",
       "      <th>number_of_obs</th>\n",
       "      <th>start_date</th>\n",
       "      <th>end_date</th>\n",
       "      <th>revist_time</th>\n",
       "    </tr>\n",
       "    <tr>\n",
       "      <th>alg</th>\n",
       "      <th></th>\n",
       "      <th></th>\n",
       "      <th></th>\n",
       "      <th></th>\n",
       "      <th></th>\n",
       "    </tr>\n",
       "  </thead>\n",
       "  <tbody>\n",
       "    <tr>\n",
       "      <th>icesat2</th>\n",
       "      <td>363.0</td>\n",
       "      <td>5.0</td>\n",
       "      <td>2023-09-13</td>\n",
       "      <td>2024-09-09</td>\n",
       "      <td>59.000000</td>\n",
       "    </tr>\n",
       "    <tr>\n",
       "      <th>swot_karin_poseidon</th>\n",
       "      <td>314.0</td>\n",
       "      <td>30.0</td>\n",
       "      <td>2023-11-28</td>\n",
       "      <td>2024-10-07</td>\n",
       "      <td>10.466667</td>\n",
       "    </tr>\n",
       "    <tr>\n",
       "      <th>tmsos</th>\n",
       "      <td>490.0</td>\n",
       "      <td>148.0</td>\n",
       "      <td>2023-07-30</td>\n",
       "      <td>2024-11-29</td>\n",
       "      <td>3.319328</td>\n",
       "    </tr>\n",
       "  </tbody>\n",
       "</table>\n",
       "</div>"
      ],
      "text/plain": [
       "                     length_of_obs  number_of_obs start_date   end_date  \\\n",
       "alg                                                                       \n",
       "icesat2                      363.0            5.0 2023-09-13 2024-09-09   \n",
       "swot_karin_poseidon          314.0           30.0 2023-11-28 2024-10-07   \n",
       "tmsos                        490.0          148.0 2023-07-30 2024-11-29   \n",
       "\n",
       "                     revist_time  \n",
       "alg                               \n",
       "icesat2                59.000000  \n",
       "swot_karin_poseidon    10.466667  \n",
       "tmsos                   3.319328  "
      ]
     },
     "metadata": {},
     "output_type": "display_data"
    }
   ],
   "source": [
    "counts = df.groupby('alg').median()\n",
    "counts"
   ]
  }
 ],
 "metadata": {
  "language_info": {
   "name": "python"
  }
 },
 "nbformat": 4,
 "nbformat_minor": 2
}

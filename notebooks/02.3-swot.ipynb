{
 "cells": [
  {
   "cell_type": "markdown",
   "metadata": {},
   "source": [
    "# SWOT\n",
    "\n"
   ]
  },
  {
   "cell_type": "code",
   "execution_count": null,
   "metadata": {},
   "outputs": [],
   "source": [
    "import geopandas as gpd\n",
    "from pathlib import Path\n",
    "import pandas as pd\n",
    "import holoviews as hv\n",
    "import hvplot.xarray\n",
    "import hvplot.pandas\n",
    "import geoviews as gv\n",
    "from holoviews import opts\n",
    "import matplotlib as mpl\n"
   ]
  },
  {
   "cell_type": "code",
   "execution_count": null,
   "metadata": {},
   "outputs": [],
   "source": [
    "# read the} bounding box of the study area\n",
    "val_pts = gpd.read_file(Path('../data/validation-locations/subset-validation-reservoirs-grand-pts.geojson'))\n",
    "val_polys = gpd.read_file(Path('../data/validation-locations/subset-validation-reservoirs-grand.geojson'))\n",
    "\n",
    "selected_reservoirs = [\n",
    "    '0505', # dumboor. India\n",
    "    '0810', # sirindhorn, Thailand.\n",
    "    '0830', # Krasoew, Thailand.\n",
    "    '0502', # Bhakra dam, India.\n",
    "    '0518', # Bhadra, India.\n",
    "    '0349', # vaaldam, South Africa.\n",
    "    '0464', # Sterkspruit, South Africa.\n",
    "    '0214', # Cijara, Spain\n",
    "    '1498', # Toledo bend, US\n",
    "    '0936', # Arrow, Canada\n",
    "]\n",
    "res_names = {\n",
    "    '0505': 'Dumboor, In',\n",
    "    '0810': 'Sirindhorn, Th',\n",
    "    '0830': 'Krasoew, Th',\n",
    "    '0502': 'Bhakra, In',\n",
    "    '0518': 'Bhadra, In',\n",
    "    '0349': 'Vaaldam, SA',\n",
    "    '0464': 'Sterkspruit, SA',\n",
    "    '0214': 'Cijara, Sp',\n",
    "    '1498': 'Toledo Bend, US',\n",
    "    '0936': 'Arrow, Ca'\n",
    "}\n",
    "\n",
    "val_res_pt = val_pts.loc[val_pts['tmsos_id'].isin(selected_reservoirs)]\n",
    "val_res_poly = val_polys.loc[val_polys['tmsos_id'].isin(selected_reservoirs)]\n",
    "\n",
    "val_res_pt.plot()"
   ]
  },
  {
   "cell_type": "code",
   "execution_count": null,
   "metadata": {},
   "outputs": [],
   "source": [
    "start_date = '2024-01-01'\n",
    "end_date = '2024-05-25'\n",
    "RESERVOIR = '0505'\n",
    "buffer_amt = 1000 # meters\n",
    "RESERVOIR_NAME = res_names[RESERVOIR]\n",
    "print(f'{RESERVOIR}: {RESERVOIR_NAME}')"
   ]
  },
  {
   "cell_type": "code",
   "execution_count": null,
   "metadata": {},
   "outputs": [],
   "source": [
    "roi = val_res_poly[val_res_poly['tmsos_id']==RESERVOIR]\n",
    "utm_crs = roi.estimate_utm_crs()\n",
    "buffered_roi_utm = roi.to_crs(utm_crs).geometry.buffer(buffer_amt)\n",
    "buffered_roi = buffered_roi_utm.to_crs('epsg:4326')\n",
    "buffered_roi.plot()"
   ]
  },
  {
   "cell_type": "markdown",
   "metadata": {},
   "source": [
    "## SWOT - determine pass number"
   ]
  },
  {
   "cell_type": "code",
   "execution_count": null,
   "metadata": {},
   "outputs": [],
   "source": [
    "gd_track_fn = Path('../data/swot_orbit/swot_orbit.geojson')\n",
    "gd_track = gpd.read_file(gd_track_fn)\n",
    "gd_track.plot(facecolor='none', edgecolor='gray', lw=0.1, alpha=0.7)"
   ]
  },
  {
   "cell_type": "code",
   "execution_count": null,
   "metadata": {},
   "outputs": [],
   "source": [
    "gd_track_subset = gd_track[gd_track.intersects(buffered_roi.geometry.values[0])]\n",
    "\n",
    "roi_gdf = gpd.GeoDataFrame(buffered_roi).rename({0: 'geometry'}, axis=1)\n",
    "roi_gdf = roi_gdf.set_geometry('geometry')\n",
    "roi_gdf['name'] = RESERVOIR_NAME\n",
    "roi_hv = roi_gdf.hvplot(geo=True, alpha=0.8)\n",
    "\n",
    "cmap = mpl.colormaps['inferno']\n",
    "gd_track_subset['color'] = [mpl.colors.rgb2hex(cmap(i)) for i in np.linspace(0, 1, len(gd_track_subset.groupby('ID_PASS')))]\n",
    "tracks_hv = gd_track_subset.hvplot(\n",
    "    geo=True, tiles='OSM', color=gd_track_subset['color'], alpha=0.5, line_width=2,\n",
    "    xlim=(int(buffered_roi.total_bounds[0])-1, int(buffered_roi.total_bounds[2])+1),\n",
    "    ylim=(int(buffered_roi.total_bounds[1])-1, int(buffered_roi.total_bounds[3])+1),\n",
    "    tools=['hover'], hover_cols=['ID_PASS']\n",
    ")\n",
    "\n",
    "(tracks_hv * roi_hv).opts(\n",
    "    title=f\"SWOT Ground Tracks over {RESERVOIR_NAME}\", width=400\n",
    ")"
   ]
  },
  {
   "cell_type": "code",
   "execution_count": null,
   "metadata": {},
   "outputs": [],
   "source": [
    "gd_track_subset"
   ]
  },
  {
   "cell_type": "code",
   "execution_count": null,
   "metadata": {},
   "outputs": [],
   "source": [
    "matches = gd_track[gd_track.intersects(buffered_roi.to_crs('epsg:4326').iloc[0])]\n",
    "pass_ids = list(matches.ID_PASS)\n",
    "print(f'Passes: {pass_ids}')"
   ]
  },
  {
   "cell_type": "code",
   "execution_count": null,
   "metadata": {},
   "outputs": [],
   "source": [
    "from tmsswot.data import get_swot_id\n",
    "\n",
    "swot_ds = get_swot_id(RESERVOIR, val_res_poly, '2022-01-01', '2024-05-30')\n",
    "swot_ds"
   ]
  },
  {
   "cell_type": "markdown",
   "metadata": {},
   "source": [
    "# Plot"
   ]
  },
  {
   "cell_type": "code",
   "execution_count": null,
   "metadata": {},
   "outputs": [],
   "source": [
    "ds = swot_ds\n",
    "\n",
    "ds['wse'].hvplot(\n",
    "    x='x', y='y', rasterize=True, aspect='equal', clim=(80, 100) # , geo=True, # crs=ds.rio.crs\n",
    ").opts(\n",
    "    title='Water Surface Elevation (m)'\n",
    ") + ds['wse_uncert'].hvplot(\n",
    "    x='x', y='y', rasterize=True, clim=(0, 1), aspect='equal', cmap='RdYlBu_r' #  geo=True, crs=ds.rio.crs\n",
    ").opts(\n",
    "    title='Water Surface Elevation Uncertainty (m)'\n",
    ")"
   ]
  },
  {
   "cell_type": "code",
   "execution_count": null,
   "metadata": {},
   "outputs": [],
   "source": [
    "swot_ds['water_frac'].hvplot(\n",
    "    x='x', y='y', rasterize=True, aspect='equal', clim=(0, 1) # , geo=True, # crs=swot_ds.rio.crs\n",
    ").opts(\n",
    "    title='Water Fraction'\n",
    ") + swot_ds['water_frac_uncert'].hvplot(\n",
    "    x='x', y='y', rasterize=True, clim=(0, 1), aspect='equal', cmap='RdYlBu_r' #  geo=True, crs=swot_ds.rio.crs\n",
    ").opts(\n",
    "    title='Water Fraction Uncertainty'\n",
    ")"
   ]
  },
  {
   "cell_type": "code",
   "execution_count": null,
   "metadata": {},
   "outputs": [],
   "source": [
    "swot_ds['water_area'].hvplot(\n",
    "    x='x', y='y', rasterize=True, aspect='equal', clim=(0, 1e4) # , geo=True, # crs=swot_ds.rio.crs\n",
    ").opts(\n",
    "    title='Water Area'\n",
    ") + swot_ds['water_area_qual'].hvplot(\n",
    "    x='x', y='y', rasterize=True, clim=(0, 3), aspect='equal', cmap='RdYlBu_r' #  geo=True, crs=swot_ds.rio.crs\n",
    ").opts(\n",
    "    title='Water Area Quality (0=nominal,1=suspect,2=degraded,3=bad)'\n",
    ")"
   ]
  },
  {
   "cell_type": "markdown",
   "metadata": {},
   "source": [
    "## save"
   ]
  },
  {
   "cell_type": "code",
   "execution_count": null,
   "metadata": {},
   "outputs": [],
   "source": [
    "save_fp = Path(f'../data/swot/{RESERVOIR}.nc')\n",
    "swot_ds.to_netcdf(save_fp)"
   ]
  },
  {
   "cell_type": "markdown",
   "metadata": {},
   "source": [
    "### Process selected reservoirs at once"
   ]
  },
  {
   "cell_type": "code",
   "execution_count": null,
   "metadata": {},
   "outputs": [],
   "source": [
    "# for RESERVOIR in selected_reservoirs:\n",
    "#     print(f'{RESERVOIR}')\n",
    "\n",
    "#     val_res_poly.loc[val_res_poly['tmsos_id']==RESERVOIR]\n",
    "\n",
    "#     buffer_amt = 0.05\n",
    "#     buffered_roi = val_res_poly.loc[val_res_poly['tmsos_id']==RESERVOIR].copy()\n",
    "#     buffered_roi['geometry'] = buffered_roi.buffer(buffer_amt)\n",
    "#     bounds = \",\".join([f\"{x:.3f}\" for x in buffered_roi.total_bounds])\n",
    "#     print(bounds)\n",
    "\n",
    "#     podaac_cmd = [\n",
    "#         'podaac-data-downloader',\n",
    "#         '-c', 'SWOT_L2_HR_Raster_100m_2.0',\n",
    "#         '-d', '../data/swot/raw', f'-b={bounds}',\n",
    "#         '--start-date', pd.to_datetime(start_date).strftime('%Y-%m-%dT%XZ'),\n",
    "#         '--end-date', pd.to_datetime(end_date).strftime('%Y-%m-%dT%XZ'),\n",
    "#     ]\n",
    "\n",
    "#     # print(\" \".join(podaac_cmd))\n",
    "\n",
    "#     import subprocess\n",
    "\n",
    "#     subprocess.run(podaac_cmd)\n",
    "\n",
    "#     swot_ds = get_swot_id(RESERVOIR, '2022-01-01', '2024-05-30')\n",
    "#     save_fp = Path(f'../data/swot/{RESERVOIR}.nc')\n",
    "#     swot_ds.to_netcdf(save_fp)"
   ]
  },
  {
   "cell_type": "code",
   "execution_count": null,
   "metadata": {},
   "outputs": [],
   "source": [
    "save_fp = Path(f'../data/swot/{RESERVOIR}.nc')\n",
    "swot_ds.to_netcdf(save_fp)"
   ]
  }
 ],
 "metadata": {
  "kernelspec": {
   "display_name": "Python 3",
   "language": "python",
   "name": "python3"
  },
  "language_info": {
   "codemirror_mode": {
    "name": "ipython",
    "version": 3
   },
   "file_extension": ".py",
   "mimetype": "text/x-python",
   "name": "python",
   "nbconvert_exporter": "python",
   "pygments_lexer": "ipython3",
   "version": "3.11.9"
  }
 },
 "nbformat": 4,
 "nbformat_minor": 2
}
